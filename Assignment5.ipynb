{
  "nbformat": 4,
  "nbformat_minor": 0,
  "metadata": {
    "colab": {
      "provenance": [],
      "include_colab_link": true
    },
    "kernelspec": {
      "name": "python3",
      "display_name": "Python 3"
    },
    "language_info": {
      "name": "python"
    }
  },
  "cells": [
    {
      "cell_type": "markdown",
      "metadata": {
        "id": "view-in-github",
        "colab_type": "text"
      },
      "source": [
        "<a href=\"https://colab.research.google.com/github/spencer-navy/CIT15000/blob/main/Assignment5.ipynb\" target=\"_parent\"><img src=\"https://colab.research.google.com/assets/colab-badge.svg\" alt=\"Open In Colab\"/></a>"
      ]
    },
    {
      "cell_type": "markdown",
      "metadata": {
        "id": "jOvjmJaauIB7"
      },
      "source": [
        "# **Homework 5**"
      ]
    },
    {
      "cell_type": "markdown",
      "metadata": {
        "id": "mZxOiGtYuIB9"
      },
      "source": [
        "Using the provided New York City (NYC) dataset. Apply Linear Regression to predict housing prices. For each house observation, we have the following information:\n",
        "\n",
        "**crim** — per capita crime rate by town.\n",
        "\n",
        "**zn** — proportion of residential land zoned for lots over 25,000 sq.ft.\n",
        "\n",
        "**indus** — proportion of non-retail business acres per town.\n",
        "**chas** — charles river dummy variable (= 1 if tract bounds river; 0 otherwise).\n",
        "\n",
        "**nox** — nitrogen oxides concentration (parts per 10 million).\n",
        "\n",
        "**rm** — average number of rooms per dwelling.\n",
        "\n",
        "**age** — proportion of owner-occupied units built prior to 1940.\n",
        "\n",
        "**dis** — weighted mean of distances to five employment centres.\n",
        "\n",
        "**rad** — index of accessibility to radial highways.\n",
        "\n",
        "**tax** — full-value property-tax rate per 10,000 USD.\n",
        "\n",
        "**ptratio** — pupil-teacher ratio by town.\n",
        "\n",
        "**black** — 1000(bk — 0.63)² where bk is the \n",
        "proportion of blacks by town.\n",
        "\n",
        "**lstat** — lower status of the population (percent).\n",
        "\n",
        "**medv** — median value of owner-occupied homes in \n",
        "$1000s. this is the target variable.\n",
        "\n",
        "The input data set contains data about details of various houses. Based on the information provided, the goal is to come up with a model to predict median value of a given house in the area.\n",
        "\n",
        "**Hint: You should use medv as the independent variable, and remember to calculate the MSERMSE**\n"
      ]
    },
    {
      "cell_type": "markdown",
      "source": [
        "# Dependencies"
      ],
      "metadata": {
        "id": "ChFzKc8GtlCv"
      }
    },
    {
      "cell_type": "code",
      "source": [
        "#Step 1: Install Dependencies\n",
        "!apt-get install openjdk-8-jdk-headless -qq > /dev/null\n",
        "!wget -q https://archive.apache.org/dist/spark/spark-3.3.0/spark-3.3.0-bin-hadoop3.tgz\n",
        "!tar xf spark-3.3.0-bin-hadoop3.tgz\n",
        "!pip install -q findspark\n",
        "\n",
        "#Step 2: Add environment variables\n",
        "import os\n",
        "os.environ[\"JAVA_HOME\"] = \"/usr/lib/jvm/java-8-openjdk-amd64\"\n",
        "os.environ[\"SPARK_HOME\"] = \"spark-3.3.0-bin-hadoop3\"\n",
        "\n",
        "#Step 3: Initialize Pyspark\n",
        "import findspark\n",
        "findspark.init()"
      ],
      "metadata": {
        "id": "oL17gpBfsbFD"
      },
      "execution_count": 1,
      "outputs": []
    },
    {
      "cell_type": "code",
      "source": [
        "#creating spark context\n",
        "from pyspark.sql import SparkSession\n",
        "spark = SparkSession.builder.appName('lr_example').getOrCreate()"
      ],
      "metadata": {
        "id": "OV3lH_rKshY-"
      },
      "execution_count": 4,
      "outputs": []
    },
    {
      "cell_type": "markdown",
      "source": [
        "# Start Here"
      ],
      "metadata": {
        "id": "oX4ow-4NtXQl"
      }
    },
    {
      "cell_type": "code",
      "source": [
        "df = spark.read.csv(\"nyc.csv\", inferSchema = True, header = True)"
      ],
      "metadata": {
        "id": "VG9bRRQnspIN"
      },
      "execution_count": 5,
      "outputs": []
    },
    {
      "cell_type": "code",
      "source": [
        "df.printSchema()"
      ],
      "metadata": {
        "colab": {
          "base_uri": "https://localhost:8080/"
        },
        "id": "FdN5H0_4s7uV",
        "outputId": "aa9e6fca-cf3f-475b-8360-a17b37111530"
      },
      "execution_count": 6,
      "outputs": [
        {
          "output_type": "stream",
          "name": "stdout",
          "text": [
            "root\n",
            " |-- _c0: integer (nullable = true)\n",
            " |-- crim: double (nullable = true)\n",
            " |-- zn: double (nullable = true)\n",
            " |-- indus: double (nullable = true)\n",
            " |-- chas: integer (nullable = true)\n",
            " |-- nox: double (nullable = true)\n",
            " |-- rm: double (nullable = true)\n",
            " |-- age: double (nullable = true)\n",
            " |-- dis: double (nullable = true)\n",
            " |-- rad: integer (nullable = true)\n",
            " |-- tax: integer (nullable = true)\n",
            " |-- ptratio: double (nullable = true)\n",
            " |-- black: double (nullable = true)\n",
            " |-- lstat: double (nullable = true)\n",
            " |-- medv: double (nullable = true)\n",
            "\n"
          ]
        }
      ]
    },
    {
      "cell_type": "code",
      "source": [
        "df.head()"
      ],
      "metadata": {
        "colab": {
          "base_uri": "https://localhost:8080/"
        },
        "id": "NlOqPVjltG_h",
        "outputId": "a576dfd6-8df6-4ac3-dc8f-5e892f227174"
      },
      "execution_count": 7,
      "outputs": [
        {
          "output_type": "execute_result",
          "data": {
            "text/plain": [
              "Row(_c0=1, crim=0.00632, zn=18.0, indus=2.31, chas=0, nox=0.538, rm=6.575, age=65.2, dis=4.09, rad=1, tax=296, ptratio=15.3, black=396.9, lstat=4.98, medv=24.0)"
            ]
          },
          "metadata": {},
          "execution_count": 7
        }
      ]
    },
    {
      "cell_type": "code",
      "source": [
        "# Import VectorAssembler and Vectors\n",
        "from pyspark.ml.linalg import Vectors\n",
        "from pyspark.ml.feature import VectorAssembler\n",
        "from pyspark.ml.regression import LinearRegression"
      ],
      "metadata": {
        "id": "u4mqvpLfuGot"
      },
      "execution_count": 8,
      "outputs": []
    },
    {
      "cell_type": "code",
      "source": [
        "df.columns"
      ],
      "metadata": {
        "colab": {
          "base_uri": "https://localhost:8080/"
        },
        "id": "x3qpUxhbuW50",
        "outputId": "8a71b257-aad2-454a-c272-441f9f204244"
      },
      "execution_count": 9,
      "outputs": [
        {
          "output_type": "execute_result",
          "data": {
            "text/plain": [
              "['_c0',\n",
              " 'crim',\n",
              " 'zn',\n",
              " 'indus',\n",
              " 'chas',\n",
              " 'nox',\n",
              " 'rm',\n",
              " 'age',\n",
              " 'dis',\n",
              " 'rad',\n",
              " 'tax',\n",
              " 'ptratio',\n",
              " 'black',\n",
              " 'lstat',\n",
              " 'medv']"
            ]
          },
          "metadata": {},
          "execution_count": 9
        }
      ]
    },
    {
      "cell_type": "code",
      "source": [
        "assembler = VectorAssembler(\n",
        "    inputCols = ['crim', 'rm', 'dis', 'tax'],\n",
        "    outputCol = \"features\")"
      ],
      "metadata": {
        "id": "Ri3E_GKBuP9V"
      },
      "execution_count": 10,
      "outputs": []
    },
    {
      "cell_type": "code",
      "source": [
        "output = assembler.transform(df)"
      ],
      "metadata": {
        "id": "-pwvEaLMwRC8"
      },
      "execution_count": 11,
      "outputs": []
    },
    {
      "cell_type": "code",
      "source": [
        "final_df = output.select(\"features\", \"medv\").show()"
      ],
      "metadata": {
        "colab": {
          "base_uri": "https://localhost:8080/"
        },
        "id": "cezAslW6wbSc",
        "outputId": "55f81266-aa70-41ab-fb9c-b709caf302cb"
      },
      "execution_count": 12,
      "outputs": [
        {
          "output_type": "stream",
          "name": "stdout",
          "text": [
            "+--------------------+----+\n",
            "|            features|medv|\n",
            "+--------------------+----+\n",
            "|[0.00632,6.575,4....|24.0|\n",
            "|[0.02731,6.421,4....|21.6|\n",
            "|[0.02729,7.185,4....|34.7|\n",
            "|[0.03237,6.998,6....|33.4|\n",
            "|[0.06905,7.147,6....|36.2|\n",
            "|[0.02985,6.43,6.0...|28.7|\n",
            "|[0.08829,6.012,5....|22.9|\n",
            "|[0.14455,6.172,5....|27.1|\n",
            "|[0.21124,5.631,6....|16.5|\n",
            "|[0.17004,6.004,6....|18.9|\n",
            "|[0.22489,6.377,6....|15.0|\n",
            "|[0.11747,6.009,6....|18.9|\n",
            "|[0.09378,5.889,5....|21.7|\n",
            "|[0.62976,5.949,4....|20.4|\n",
            "|[0.63796,6.096,4....|18.2|\n",
            "|[0.62739,5.834,4....|19.9|\n",
            "|[1.05393,5.935,4....|23.1|\n",
            "|[0.7842,5.99,4.25...|17.5|\n",
            "|[0.80271,5.456,3....|20.2|\n",
            "|[0.7258,5.727,3.7...|18.2|\n",
            "+--------------------+----+\n",
            "only showing top 20 rows\n",
            "\n"
          ]
        }
      ]
    },
    {
      "cell_type": "code",
      "source": [
        "train_data, test_data = final_df.randomSplit([0.7, 0.3])"
      ],
      "metadata": {
        "colab": {
          "base_uri": "https://localhost:8080/",
          "height": 169
        },
        "id": "0SEGvnQCy1qc",
        "outputId": "079f8124-754b-4670-ca2c-cac7cbb610dc"
      },
      "execution_count": 14,
      "outputs": [
        {
          "output_type": "error",
          "ename": "AttributeError",
          "evalue": "ignored",
          "traceback": [
            "\u001b[0;31m---------------------------------------------------------------------------\u001b[0m",
            "\u001b[0;31mAttributeError\u001b[0m                            Traceback (most recent call last)",
            "\u001b[0;32m<ipython-input-14-f33fb9a5e4a5>\u001b[0m in \u001b[0;36m<cell line: 1>\u001b[0;34m()\u001b[0m\n\u001b[0;32m----> 1\u001b[0;31m \u001b[0;34m(\u001b[0m\u001b[0mtrain_data\u001b[0m\u001b[0;34m,\u001b[0m \u001b[0mtest_data\u001b[0m\u001b[0;34m)\u001b[0m \u001b[0;34m=\u001b[0m \u001b[0mfinal_df\u001b[0m\u001b[0;34m.\u001b[0m\u001b[0mrandomSplit\u001b[0m\u001b[0;34m(\u001b[0m\u001b[0;34m[\u001b[0m\u001b[0;36m0.7\u001b[0m\u001b[0;34m,\u001b[0m \u001b[0;36m0.3\u001b[0m\u001b[0;34m]\u001b[0m\u001b[0;34m)\u001b[0m\u001b[0;34m\u001b[0m\u001b[0;34m\u001b[0m\u001b[0m\n\u001b[0m",
            "\u001b[0;31mAttributeError\u001b[0m: 'NoneType' object has no attribute 'randomSplit'"
          ]
        }
      ]
    },
    {
      "cell_type": "code",
      "source": [
        "train_date.show()"
      ],
      "metadata": {
        "id": "sUk0UsDo7QyS"
      },
      "execution_count": null,
      "outputs": []
    },
    {
      "cell_type": "code",
      "source": [
        "train_data.describe().show()"
      ],
      "metadata": {
        "id": "JlI6es_z7Uvu"
      },
      "execution_count": null,
      "outputs": []
    },
    {
      "cell_type": "code",
      "source": [
        "test_data.describe().show()"
      ],
      "metadata": {
        "id": "mIflRiTn7ZrC"
      },
      "execution_count": null,
      "outputs": []
    },
    {
      "cell_type": "code",
      "source": [
        "from pyspark.ml.regression import LinearRegression"
      ],
      "metadata": {
        "id": "19Jo892X7cqv"
      },
      "execution_count": 70,
      "outputs": []
    }
  ]
}